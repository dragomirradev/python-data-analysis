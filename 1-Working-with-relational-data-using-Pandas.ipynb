{
 "cells": [
  {
   "cell_type": "markdown",
   "metadata": {},
   "source": [
    "# Working with relational data using Pandas\n",
    "------\n",
    "\n",
    "### Testing the waters with sample relational data\n",
    "\n",
    "Based on well defined theory and availability of highly mature, scalable and accessible relational database systems like Postgres, MariaDB and other commercial alternatives, relational data is pervasive in modern software development. Though, off late, the dominance of SQL systems is being challenged by flexibility of some No-SQL datastores, relational data and datastore continue to be an important source of raw datasets for many data analysis projects.\n",
    "\n",
    "In this part we start-off with a simple relational dataset which will be augmented with more complexity as we proceed through the section. This dataset is then analysed using Pandas - a very nifty python package for working with various kinds of data, especially, tabular and relational data.\n",
    "\n",
    "#### Why not use one of the many popular datasets\n",
    "\n",
    "Being able to mentally replicate and cross check the result of an algorithm is pretty important in gaining confidence in data analysis. This is not always possible with, say, the Petals dataset or Reuters dataset for that matter. We therefore construct a small dataset of a nature which could very easily be found in many modern codebases and each time we arrive at a result, we can manually and independently compute the result and compare with that of our approach in code."
   ]
  },
  {
   "cell_type": "code",
   "execution_count": 1,
   "metadata": {},
   "outputs": [
    {
     "data": {
      "text/plain": [
       "[{'age': 29, 'id': 1, 'name': 'John'},\n",
       " {'age': 19, 'id': 2, 'name': 'Doe'},\n",
       " {'age': 32, 'id': 3, 'name': 'Alex'},\n",
       " {'age': 27, 'id': 4, 'name': 'Rahul'},\n",
       " {'age': 23, 'id': 5, 'name': 'Ellen'},\n",
       " {'age': 30, 'id': 6, 'name': 'Shristy'}]"
      ]
     },
     "execution_count": 1,
     "metadata": {},
     "output_type": "execute_result"
    }
   ],
   "source": [
    "import pandas as pd\n",
    "\n",
    "# Some basic data\n",
    "\n",
    "users = [\n",
    "    { 'name': 'John', 'age': 29, 'id': 1 },\n",
    "    { 'name': 'Doe', 'age': 19, 'id': 2 },\n",
    "    { 'name': 'Alex', 'age': 32, 'id': 3 },\n",
    "    { 'name': 'Rahul', 'age': 27, 'id': 4 },\n",
    "    { 'name': 'Ellen', 'age': 23, 'id': 5},\n",
    "    { 'name': 'Shristy', 'age': 30, 'id': 6}\n",
    "]\n",
    "\n",
    "users"
   ]
  },
  {
   "cell_type": "code",
   "execution_count": 2,
   "metadata": {},
   "outputs": [
    {
     "data": {
      "text/plain": [
       "[{'likes': 'Mango', 'user_id': 1},\n",
       " {'likes': 'Pepsi', 'user_id': 1},\n",
       " {'likes': 'Burger', 'user_id': 2},\n",
       " {'likes': 'Mango', 'user_id': 2},\n",
       " {'likes': 'Cola', 'user_id': 3},\n",
       " {'likes': 'Orange', 'user_id': 4},\n",
       " {'likes': 'Cola', 'user_id': 3},\n",
       " {'likes': 'Pepsi', 'user_id': 2},\n",
       " {'likes': 'Carrot', 'user_id': 3},\n",
       " {'likes': 'Mango', 'user_id': 4},\n",
       " {'likes': 'Pepsi', 'user_id': 6}]"
      ]
     },
     "execution_count": 2,
     "metadata": {},
     "output_type": "execute_result"
    }
   ],
   "source": [
    "# Using the above data as Foreign Key (FK)\n",
    "likes = [\n",
    "    { 'user_id': 1, 'likes': 'Mango' },\n",
    "    { 'user_id': 1, 'likes': 'Pepsi' },\n",
    "    { 'user_id': 2, 'likes': 'Burger' },\n",
    "    { 'user_id': 2, 'likes': 'Mango' },\n",
    "    { 'user_id': 3, 'likes': 'Cola' },\n",
    "    { 'user_id': 4, 'likes': 'Orange' },\n",
    "    { 'user_id': 3, 'likes': 'Cola' },\n",
    "    { 'user_id': 2, 'likes': 'Pepsi' },\n",
    "    { 'user_id': 3, 'likes': 'Carrot' },\n",
    "    { 'user_id': 4, 'likes': 'Mango' },\n",
    "    { 'user_id': 6, 'likes': 'Pepsi' },\n",
    "]\n",
    "\n",
    "likes"
   ]
  },
  {
   "cell_type": "code",
   "execution_count": 3,
   "metadata": {},
   "outputs": [
    {
     "data": {
      "text/html": [
       "<div>\n",
       "<style>\n",
       "    .dataframe thead tr:only-child th {\n",
       "        text-align: right;\n",
       "    }\n",
       "\n",
       "    .dataframe thead th {\n",
       "        text-align: left;\n",
       "    }\n",
       "\n",
       "    .dataframe tbody tr th {\n",
       "        vertical-align: top;\n",
       "    }\n",
       "</style>\n",
       "<table border=\"1\" class=\"dataframe\">\n",
       "  <thead>\n",
       "    <tr style=\"text-align: right;\">\n",
       "      <th></th>\n",
       "      <th>age</th>\n",
       "      <th>id</th>\n",
       "      <th>name</th>\n",
       "    </tr>\n",
       "  </thead>\n",
       "  <tbody>\n",
       "    <tr>\n",
       "      <th>0</th>\n",
       "      <td>29</td>\n",
       "      <td>1</td>\n",
       "      <td>John</td>\n",
       "    </tr>\n",
       "    <tr>\n",
       "      <th>1</th>\n",
       "      <td>19</td>\n",
       "      <td>2</td>\n",
       "      <td>Doe</td>\n",
       "    </tr>\n",
       "    <tr>\n",
       "      <th>2</th>\n",
       "      <td>32</td>\n",
       "      <td>3</td>\n",
       "      <td>Alex</td>\n",
       "    </tr>\n",
       "    <tr>\n",
       "      <th>3</th>\n",
       "      <td>27</td>\n",
       "      <td>4</td>\n",
       "      <td>Rahul</td>\n",
       "    </tr>\n",
       "    <tr>\n",
       "      <th>4</th>\n",
       "      <td>23</td>\n",
       "      <td>5</td>\n",
       "      <td>Ellen</td>\n",
       "    </tr>\n",
       "    <tr>\n",
       "      <th>5</th>\n",
       "      <td>30</td>\n",
       "      <td>6</td>\n",
       "      <td>Shristy</td>\n",
       "    </tr>\n",
       "  </tbody>\n",
       "</table>\n",
       "</div>"
      ],
      "text/plain": [
       "   age  id     name\n",
       "0   29   1     John\n",
       "1   19   2      Doe\n",
       "2   32   3     Alex\n",
       "3   27   4    Rahul\n",
       "4   23   5    Ellen\n",
       "5   30   6  Shristy"
      ]
     },
     "execution_count": 3,
     "metadata": {},
     "output_type": "execute_result"
    }
   ],
   "source": [
    "# Create Pandas DataFrame object and set\n",
    "# appropriate index\n",
    "df_users = pd.DataFrame(users)\n",
    "df_users.set_index('id')\n",
    "df_users"
   ]
  },
  {
   "cell_type": "code",
   "execution_count": 4,
   "metadata": {},
   "outputs": [
    {
     "data": {
      "text/html": [
       "<div>\n",
       "<style>\n",
       "    .dataframe thead tr:only-child th {\n",
       "        text-align: right;\n",
       "    }\n",
       "\n",
       "    .dataframe thead th {\n",
       "        text-align: left;\n",
       "    }\n",
       "\n",
       "    .dataframe tbody tr th {\n",
       "        vertical-align: top;\n",
       "    }\n",
       "</style>\n",
       "<table border=\"1\" class=\"dataframe\">\n",
       "  <thead>\n",
       "    <tr style=\"text-align: right;\">\n",
       "      <th></th>\n",
       "      <th>likes</th>\n",
       "      <th>user_id</th>\n",
       "    </tr>\n",
       "  </thead>\n",
       "  <tbody>\n",
       "    <tr>\n",
       "      <th>0</th>\n",
       "      <td>Mango</td>\n",
       "      <td>1</td>\n",
       "    </tr>\n",
       "    <tr>\n",
       "      <th>1</th>\n",
       "      <td>Pepsi</td>\n",
       "      <td>1</td>\n",
       "    </tr>\n",
       "    <tr>\n",
       "      <th>2</th>\n",
       "      <td>Burger</td>\n",
       "      <td>2</td>\n",
       "    </tr>\n",
       "    <tr>\n",
       "      <th>3</th>\n",
       "      <td>Mango</td>\n",
       "      <td>2</td>\n",
       "    </tr>\n",
       "    <tr>\n",
       "      <th>4</th>\n",
       "      <td>Cola</td>\n",
       "      <td>3</td>\n",
       "    </tr>\n",
       "    <tr>\n",
       "      <th>5</th>\n",
       "      <td>Orange</td>\n",
       "      <td>4</td>\n",
       "    </tr>\n",
       "    <tr>\n",
       "      <th>6</th>\n",
       "      <td>Cola</td>\n",
       "      <td>3</td>\n",
       "    </tr>\n",
       "    <tr>\n",
       "      <th>7</th>\n",
       "      <td>Pepsi</td>\n",
       "      <td>2</td>\n",
       "    </tr>\n",
       "    <tr>\n",
       "      <th>8</th>\n",
       "      <td>Carrot</td>\n",
       "      <td>3</td>\n",
       "    </tr>\n",
       "    <tr>\n",
       "      <th>9</th>\n",
       "      <td>Mango</td>\n",
       "      <td>4</td>\n",
       "    </tr>\n",
       "    <tr>\n",
       "      <th>10</th>\n",
       "      <td>Pepsi</td>\n",
       "      <td>6</td>\n",
       "    </tr>\n",
       "  </tbody>\n",
       "</table>\n",
       "</div>"
      ],
      "text/plain": [
       "     likes  user_id\n",
       "0    Mango        1\n",
       "1    Pepsi        1\n",
       "2   Burger        2\n",
       "3    Mango        2\n",
       "4     Cola        3\n",
       "5   Orange        4\n",
       "6     Cola        3\n",
       "7    Pepsi        2\n",
       "8   Carrot        3\n",
       "9    Mango        4\n",
       "10   Pepsi        6"
      ]
     },
     "execution_count": 4,
     "metadata": {},
     "output_type": "execute_result"
    }
   ],
   "source": [
    "df_likes = pd.DataFrame(likes)\n",
    "df_likes.set_index('user_id')\n",
    "df_likes"
   ]
  },
  {
   "cell_type": "code",
   "execution_count": 5,
   "metadata": {},
   "outputs": [
    {
     "data": {
      "text/html": [
       "<div>\n",
       "<style>\n",
       "    .dataframe thead tr:only-child th {\n",
       "        text-align: right;\n",
       "    }\n",
       "\n",
       "    .dataframe thead th {\n",
       "        text-align: left;\n",
       "    }\n",
       "\n",
       "    .dataframe tbody tr th {\n",
       "        vertical-align: top;\n",
       "    }\n",
       "</style>\n",
       "<table border=\"1\" class=\"dataframe\">\n",
       "  <thead>\n",
       "    <tr style=\"text-align: right;\">\n",
       "      <th></th>\n",
       "      <th>age</th>\n",
       "      <th>id</th>\n",
       "      <th>name</th>\n",
       "      <th>likes</th>\n",
       "      <th>user_id</th>\n",
       "    </tr>\n",
       "  </thead>\n",
       "  <tbody>\n",
       "    <tr>\n",
       "      <th>0</th>\n",
       "      <td>29</td>\n",
       "      <td>1</td>\n",
       "      <td>John</td>\n",
       "      <td>Mango</td>\n",
       "      <td>1</td>\n",
       "    </tr>\n",
       "    <tr>\n",
       "      <th>1</th>\n",
       "      <td>29</td>\n",
       "      <td>1</td>\n",
       "      <td>John</td>\n",
       "      <td>Pepsi</td>\n",
       "      <td>1</td>\n",
       "    </tr>\n",
       "    <tr>\n",
       "      <th>2</th>\n",
       "      <td>19</td>\n",
       "      <td>2</td>\n",
       "      <td>Doe</td>\n",
       "      <td>Burger</td>\n",
       "      <td>2</td>\n",
       "    </tr>\n",
       "    <tr>\n",
       "      <th>3</th>\n",
       "      <td>19</td>\n",
       "      <td>2</td>\n",
       "      <td>Doe</td>\n",
       "      <td>Mango</td>\n",
       "      <td>2</td>\n",
       "    </tr>\n",
       "    <tr>\n",
       "      <th>4</th>\n",
       "      <td>19</td>\n",
       "      <td>2</td>\n",
       "      <td>Doe</td>\n",
       "      <td>Pepsi</td>\n",
       "      <td>2</td>\n",
       "    </tr>\n",
       "    <tr>\n",
       "      <th>5</th>\n",
       "      <td>32</td>\n",
       "      <td>3</td>\n",
       "      <td>Alex</td>\n",
       "      <td>Cola</td>\n",
       "      <td>3</td>\n",
       "    </tr>\n",
       "    <tr>\n",
       "      <th>6</th>\n",
       "      <td>32</td>\n",
       "      <td>3</td>\n",
       "      <td>Alex</td>\n",
       "      <td>Cola</td>\n",
       "      <td>3</td>\n",
       "    </tr>\n",
       "    <tr>\n",
       "      <th>7</th>\n",
       "      <td>32</td>\n",
       "      <td>3</td>\n",
       "      <td>Alex</td>\n",
       "      <td>Carrot</td>\n",
       "      <td>3</td>\n",
       "    </tr>\n",
       "    <tr>\n",
       "      <th>8</th>\n",
       "      <td>27</td>\n",
       "      <td>4</td>\n",
       "      <td>Rahul</td>\n",
       "      <td>Orange</td>\n",
       "      <td>4</td>\n",
       "    </tr>\n",
       "    <tr>\n",
       "      <th>9</th>\n",
       "      <td>27</td>\n",
       "      <td>4</td>\n",
       "      <td>Rahul</td>\n",
       "      <td>Mango</td>\n",
       "      <td>4</td>\n",
       "    </tr>\n",
       "    <tr>\n",
       "      <th>10</th>\n",
       "      <td>30</td>\n",
       "      <td>6</td>\n",
       "      <td>Shristy</td>\n",
       "      <td>Pepsi</td>\n",
       "      <td>6</td>\n",
       "    </tr>\n",
       "  </tbody>\n",
       "</table>\n",
       "</div>"
      ],
      "text/plain": [
       "    age  id     name   likes  user_id\n",
       "0    29   1     John   Mango        1\n",
       "1    29   1     John   Pepsi        1\n",
       "2    19   2      Doe  Burger        2\n",
       "3    19   2      Doe   Mango        2\n",
       "4    19   2      Doe   Pepsi        2\n",
       "5    32   3     Alex    Cola        3\n",
       "6    32   3     Alex    Cola        3\n",
       "7    32   3     Alex  Carrot        3\n",
       "8    27   4    Rahul  Orange        4\n",
       "9    27   4    Rahul   Mango        4\n",
       "10   30   6  Shristy   Pepsi        6"
      ]
     },
     "execution_count": 5,
     "metadata": {},
     "output_type": "execute_result"
    }
   ],
   "source": [
    "# Using the FK relation to create a join\n",
    "users_likes_join = df_users.merge(df_likes, left_on='id', right_on='user_id')\n",
    "users_likes_join.set_index('user_id')\n",
    "users_likes_join"
   ]
  },
  {
   "cell_type": "code",
   "execution_count": 6,
   "metadata": {},
   "outputs": [
    {
     "data": {
      "text/html": [
       "<div>\n",
       "<style>\n",
       "    .dataframe thead tr:only-child th {\n",
       "        text-align: right;\n",
       "    }\n",
       "\n",
       "    .dataframe thead th {\n",
       "        text-align: left;\n",
       "    }\n",
       "\n",
       "    .dataframe tbody tr th {\n",
       "        vertical-align: top;\n",
       "    }\n",
       "</style>\n",
       "<table border=\"1\" class=\"dataframe\">\n",
       "  <thead>\n",
       "    <tr style=\"text-align: right;\">\n",
       "      <th></th>\n",
       "      <th>likes</th>\n",
       "      <th>user_id</th>\n",
       "      <th>age</th>\n",
       "      <th>id</th>\n",
       "      <th>name</th>\n",
       "    </tr>\n",
       "  </thead>\n",
       "  <tbody>\n",
       "    <tr>\n",
       "      <th>0</th>\n",
       "      <td>Mango</td>\n",
       "      <td>1</td>\n",
       "      <td>29</td>\n",
       "      <td>1</td>\n",
       "      <td>John</td>\n",
       "    </tr>\n",
       "    <tr>\n",
       "      <th>1</th>\n",
       "      <td>Pepsi</td>\n",
       "      <td>1</td>\n",
       "      <td>29</td>\n",
       "      <td>1</td>\n",
       "      <td>John</td>\n",
       "    </tr>\n",
       "    <tr>\n",
       "      <th>2</th>\n",
       "      <td>Burger</td>\n",
       "      <td>2</td>\n",
       "      <td>19</td>\n",
       "      <td>2</td>\n",
       "      <td>Doe</td>\n",
       "    </tr>\n",
       "    <tr>\n",
       "      <th>3</th>\n",
       "      <td>Mango</td>\n",
       "      <td>2</td>\n",
       "      <td>19</td>\n",
       "      <td>2</td>\n",
       "      <td>Doe</td>\n",
       "    </tr>\n",
       "    <tr>\n",
       "      <th>4</th>\n",
       "      <td>Pepsi</td>\n",
       "      <td>2</td>\n",
       "      <td>19</td>\n",
       "      <td>2</td>\n",
       "      <td>Doe</td>\n",
       "    </tr>\n",
       "    <tr>\n",
       "      <th>5</th>\n",
       "      <td>Cola</td>\n",
       "      <td>3</td>\n",
       "      <td>32</td>\n",
       "      <td>3</td>\n",
       "      <td>Alex</td>\n",
       "    </tr>\n",
       "    <tr>\n",
       "      <th>6</th>\n",
       "      <td>Cola</td>\n",
       "      <td>3</td>\n",
       "      <td>32</td>\n",
       "      <td>3</td>\n",
       "      <td>Alex</td>\n",
       "    </tr>\n",
       "    <tr>\n",
       "      <th>7</th>\n",
       "      <td>Carrot</td>\n",
       "      <td>3</td>\n",
       "      <td>32</td>\n",
       "      <td>3</td>\n",
       "      <td>Alex</td>\n",
       "    </tr>\n",
       "    <tr>\n",
       "      <th>8</th>\n",
       "      <td>Orange</td>\n",
       "      <td>4</td>\n",
       "      <td>27</td>\n",
       "      <td>4</td>\n",
       "      <td>Rahul</td>\n",
       "    </tr>\n",
       "    <tr>\n",
       "      <th>9</th>\n",
       "      <td>Mango</td>\n",
       "      <td>4</td>\n",
       "      <td>27</td>\n",
       "      <td>4</td>\n",
       "      <td>Rahul</td>\n",
       "    </tr>\n",
       "    <tr>\n",
       "      <th>10</th>\n",
       "      <td>Pepsi</td>\n",
       "      <td>6</td>\n",
       "      <td>30</td>\n",
       "      <td>6</td>\n",
       "      <td>Shristy</td>\n",
       "    </tr>\n",
       "  </tbody>\n",
       "</table>\n",
       "</div>"
      ],
      "text/plain": [
       "     likes  user_id  age  id     name\n",
       "0    Mango        1   29   1     John\n",
       "1    Pepsi        1   29   1     John\n",
       "2   Burger        2   19   2      Doe\n",
       "3    Mango        2   19   2      Doe\n",
       "4    Pepsi        2   19   2      Doe\n",
       "5     Cola        3   32   3     Alex\n",
       "6     Cola        3   32   3     Alex\n",
       "7   Carrot        3   32   3     Alex\n",
       "8   Orange        4   27   4    Rahul\n",
       "9    Mango        4   27   4    Rahul\n",
       "10   Pepsi        6   30   6  Shristy"
      ]
     },
     "execution_count": 6,
     "metadata": {},
     "output_type": "execute_result"
    }
   ],
   "source": [
    "# Changing left and right hand side of the relationship\n",
    "likes_users_join = df_likes.merge(df_users, left_on='user_id', right_on='id')\n",
    "likes_users_join.set_index('user_id')\n",
    "likes_users_join"
   ]
  },
  {
   "cell_type": "markdown",
   "metadata": {},
   "source": [
    "### Basic Aggregation Operations"
   ]
  },
  {
   "cell_type": "code",
   "execution_count": 7,
   "metadata": {},
   "outputs": [
    {
     "data": {
      "text/plain": [
       "likes\n",
       "Burger    1\n",
       "Carrot    1\n",
       "Cola      2\n",
       "Mango     3\n",
       "Orange    1\n",
       "Pepsi     3\n",
       "Name: likes, dtype: int64"
      ]
     },
     "execution_count": 7,
     "metadata": {},
     "output_type": "execute_result"
    }
   ],
   "source": [
    "# Food wise count of likes\n",
    "food_wise = users_likes_join.groupby('likes')['likes'].count()\n",
    "food_wise"
   ]
  },
  {
   "cell_type": "code",
   "execution_count": 8,
   "metadata": {},
   "outputs": [
    {
     "data": {
      "text/plain": [
       "likes\n",
       "Burger    1\n",
       "Carrot    1\n",
       "Orange    1\n",
       "Cola      2\n",
       "Mango     3\n",
       "Pepsi     3\n",
       "Name: likes, dtype: int64"
      ]
     },
     "execution_count": 8,
     "metadata": {},
     "output_type": "execute_result"
    }
   ],
   "source": [
    "# Lets sort our data. Default order is ascending\n",
    "asc_sort = food_wise.sort_values()\n",
    "asc_sort"
   ]
  },
  {
   "cell_type": "code",
   "execution_count": 9,
   "metadata": {},
   "outputs": [
    {
     "data": {
      "text/plain": [
       "likes\n",
       "Pepsi     3\n",
       "Mango     3\n",
       "Cola      2\n",
       "Orange    1\n",
       "Carrot    1\n",
       "Burger    1\n",
       "Name: likes, dtype: int64"
      ]
     },
     "execution_count": 9,
     "metadata": {},
     "output_type": "execute_result"
    }
   ],
   "source": [
    "# An example for descending\n",
    "dsc_sort = food_wise.sort_values(ascending=False)\n",
    "dsc_sort"
   ]
  },
  {
   "cell_type": "markdown",
   "metadata": {},
   "source": [
    "#### QUICK NOTE ABOUT `sort_values`\n",
    "\n",
    "By default `sort_values` allocates new memory each time it is called. While working with larger production data we can be limited by the available memory on our machines vis-a-vis the dataset size (and really we do not wish to hit the SWAP partition even on SSDs). In such a situation, we can set the keyword argument `inplace=True`, this will modify the current DataFrame it self instead of allocating new memory.\n",
    "\n",
    "Beware though mutation, while memory efficient, can be a risky affair leading to complex code paths and hard to reason about code."
   ]
  },
  {
   "cell_type": "code",
   "execution_count": 10,
   "metadata": {},
   "outputs": [
    {
     "data": {
      "text/plain": [
       "likes\n",
       "Pepsi     3\n",
       "Mango     3\n",
       "Cola      2\n",
       "Orange    1\n",
       "Carrot    1\n",
       "Burger    1\n",
       "Name: likes, dtype: int64"
      ]
     },
     "execution_count": 10,
     "metadata": {},
     "output_type": "execute_result"
    }
   ],
   "source": [
    "# Using in_place sort for memory efficiency\n",
    "# Notice there is no left hand side value\n",
    "food_wise.sort_values(ascending=False, inplace=True)\n",
    "\n",
    "# food_wise itself has changed\n",
    "food_wise"
   ]
  },
  {
   "cell_type": "markdown",
   "metadata": {},
   "source": [
    "### Working with visualisations and charts\n",
    "\n",
    "We use the python package - matplotlib - to generate visualisations and charts for our analysis. The command `%matplotlib inline` is a handy option which embeds the charts directly into our ipython/jupyter notebook.\n",
    "\n",
    "While we can directly configure and call matplotlib functions to generate charts. Pandas, via the `DataFrame` object, exposes some very convenient methods to quickly generate plots."
   ]
  },
  {
   "cell_type": "code",
   "execution_count": 11,
   "metadata": {},
   "outputs": [
    {
     "data": {
      "text/plain": [
       "<matplotlib.axes._subplots.AxesSubplot at 0x106f7bda0>"
      ]
     },
     "execution_count": 11,
     "metadata": {},
     "output_type": "execute_result"
    },
    {
     "data": {
      "image/png": "[encoded data removed]",
      "text/plain": [
       "<matplotlib.figure.Figure at 0x106f7b3c8>"
      ]
     },
     "metadata": {},
     "output_type": "display_data"
    }
   ],
   "source": [
    "%matplotlib inline\n",
    "import matplotlib\n",
    "\n",
    "# ggplot is theme of matplotlib which adds\n",
    "# some visual asthetics to our charts. It is\n",
    "# inspired from the eponymous charting package\n",
    "# of the R programming language\n",
    "matplotlib.style.use('ggplot')\n",
    "\n",
    "# Every DataFrame object exposes a plot object\n",
    "# which can be used to generate different plots\n",
    "\n",
    "# A pie chart, figsize allows us to define size of the\n",
    "# plot as a tuple of (width, height) in inches\n",
    "food_wise.plot.pie(figsize=(7, 7))"
   ]
  },
  {
   "cell_type": "code",
   "execution_count": 12,
   "metadata": {},
   "outputs": [
    {
     "data": {
      "text/plain": [
       "<matplotlib.axes._subplots.AxesSubplot at 0x106fa4ef0>"
      ]
     },
     "execution_count": 12,
     "metadata": {},
     "output_type": "execute_result"
    },
    {
     "data": {
      "image/png": "[encoded data removed]",
      "text/plain": [
       "<matplotlib.figure.Figure at 0x106fb3048>"
      ]
     },
     "metadata": {},
     "output_type": "display_data"
    }
   ],
   "source": [
    "# A bar chart\n",
    "food_wise.plot.bar(figsize=(7, 7))"
   ]
  },
  {
   "cell_type": "code",
   "execution_count": 13,
   "metadata": {},
   "outputs": [
    {
     "data": {
      "text/plain": [
       "<matplotlib.axes._subplots.AxesSubplot at 0x1070651d0>"
      ]
     },
     "execution_count": 13,
     "metadata": {},
     "output_type": "execute_result"
    },
    {
     "data": {
      "image/png": "[encoded data removed]",
      "text/plain": [
       "<matplotlib.figure.Figure at 0x1070ba860>"
      ]
     },
     "metadata": {},
     "output_type": "display_data"
    }
   ],
   "source": [
    "# Horizontal bar chart\n",
    "food_wise.plot.barh(figsize=(7, 7))"
   ]
  },
  {
   "cell_type": "code",
   "execution_count": 14,
   "metadata": {},
   "outputs": [
    {
     "data": {
      "text/plain": [
       "<matplotlib.axes._subplots.AxesSubplot at 0x1071fe2e8>"
      ]
     },
     "execution_count": 14,
     "metadata": {},
     "output_type": "execute_result"
    },
    {
     "data": {
      "image/png": "[encoded data removed]",
      "text/plain": [
       "<matplotlib.figure.Figure at 0x107207400>"
      ]
     },
     "metadata": {},
     "output_type": "display_data"
    }
   ],
   "source": [
    "# Lets plot the most active users - those who hit like\n",
    "# very often using the above techniques\n",
    "\n",
    "# Get the users by number of likes they have\n",
    "user_agg = users_likes_join.groupby('name')['likes'].count()\n",
    "\n",
    "# Here we go: Our most active users in a different color\n",
    "user_agg.plot.barh(figsize=(6, 6), color='#10d3f6')"
   ]
  },
  {
   "cell_type": "markdown",
   "metadata": {},
   "source": [
    "matplotlib does provide many more options to generate complex and we will explore more of them as we proceed.\n",
    "\n",
    "We assemble data and massage it with the sole purpose seeking insights, getting our questions answered - exactly where pandas shines.\n",
    "\n",
    "### Asking questions of our data\n",
    "\n",
    "Pandas supports boolean indexing using the square bracket notation - []. Boolean indexing enables us to pass a predicate which can be used for among other things for filtering. Pandas also provides negation operator `~` to filter based on opposite of our predicate."
   ]
  },
  {
   "cell_type": "code",
   "execution_count": 15,
   "metadata": {},
   "outputs": [
    {
     "data": {
      "text/html": [
       "<div>\n",
       "<style>\n",
       "    .dataframe thead tr:only-child th {\n",
       "        text-align: right;\n",
       "    }\n",
       "\n",
       "    .dataframe thead th {\n",
       "        text-align: left;\n",
       "    }\n",
       "\n",
       "    .dataframe tbody tr th {\n",
       "        vertical-align: top;\n",
       "    }\n",
       "</style>\n",
       "<table border=\"1\" class=\"dataframe\">\n",
       "  <thead>\n",
       "    <tr style=\"text-align: right;\">\n",
       "      <th></th>\n",
       "      <th>age</th>\n",
       "      <th>id</th>\n",
       "      <th>name</th>\n",
       "    </tr>\n",
       "  </thead>\n",
       "  <tbody>\n",
       "    <tr>\n",
       "      <th>4</th>\n",
       "      <td>23</td>\n",
       "      <td>5</td>\n",
       "      <td>Ellen</td>\n",
       "    </tr>\n",
       "  </tbody>\n",
       "</table>\n",
       "</div>"
      ],
      "text/plain": [
       "   age  id   name\n",
       "4   23   5  Ellen"
      ]
     },
     "execution_count": 15,
     "metadata": {},
     "output_type": "execute_result"
    }
   ],
   "source": [
    "# Users who never interact with our data\n",
    "df_users[~df_users.id.isin(df_likes['user_id'])]"
   ]
  },
  {
   "cell_type": "markdown",
   "metadata": {},
   "source": [
    "Since pandas DataFrame is a column based abstraction (as against row) we need to `reset_index` after an aggregation operation in order retrieve flat DataFrame which is convenient to query."
   ]
  },
  {
   "cell_type": "code",
   "execution_count": 16,
   "metadata": {},
   "outputs": [
    {
     "data": {
      "text/html": [
       "<div>\n",
       "<style>\n",
       "    .dataframe thead tr:only-child th {\n",
       "        text-align: right;\n",
       "    }\n",
       "\n",
       "    .dataframe thead th {\n",
       "        text-align: left;\n",
       "    }\n",
       "\n",
       "    .dataframe tbody tr th {\n",
       "        vertical-align: top;\n",
       "    }\n",
       "</style>\n",
       "<table border=\"1\" class=\"dataframe\">\n",
       "  <thead>\n",
       "    <tr style=\"text-align: right;\">\n",
       "      <th></th>\n",
       "      <th></th>\n",
       "      <th></th>\n",
       "      <th>likes</th>\n",
       "    </tr>\n",
       "    <tr>\n",
       "      <th>user_id</th>\n",
       "      <th>name</th>\n",
       "      <th>age</th>\n",
       "      <th></th>\n",
       "    </tr>\n",
       "  </thead>\n",
       "  <tbody>\n",
       "    <tr>\n",
       "      <th>1</th>\n",
       "      <th>John</th>\n",
       "      <th>29</th>\n",
       "      <td>2</td>\n",
       "    </tr>\n",
       "  </tbody>\n",
       "</table>\n",
       "</div>"
      ],
      "text/plain": [
       "                  likes\n",
       "user_id name age       \n",
       "1       John 29       2"
      ]
     },
     "execution_count": 16,
     "metadata": {},
     "output_type": "execute_result"
    }
   ],
   "source": [
    "# Oldest user who has exactly 2 likes\n",
    "agg_values = (\n",
    "    users_likes_join\n",
    "        .groupby(['user_id', 'name', 'age'])\n",
    "        .agg({ 'likes': 'count' })\n",
    "        .sort_index(level=['age'], sort_remaining=False, ascending=False)\n",
    ")\n",
    "\n",
    "agg_values[agg_values['likes'] == 2].head(1)"
   ]
  },
  {
   "cell_type": "markdown",
   "metadata": {},
   "source": [
    "In the above we used `sort_index` instead of `sort_values` because the `groupby` operation creates a `MultiIndex`\n",
    "on columns `user_id`, `name` and `age` and since `age` is a part of an index `sort_values` cannot operate on it.\n",
    "\n",
    "The `head(n)` function on a `DataFrame` returns first `n` records from the frame and the equivalent function `tail(n)` returns last `n` records from the frame."
   ]
  },
  {
   "cell_type": "code",
   "execution_count": 17,
   "metadata": {},
   "outputs": [
    {
     "data": {
      "text/html": [
       "<div>\n",
       "<style>\n",
       "    .dataframe thead tr:only-child th {\n",
       "        text-align: right;\n",
       "    }\n",
       "\n",
       "    .dataframe thead th {\n",
       "        text-align: left;\n",
       "    }\n",
       "\n",
       "    .dataframe tbody tr th {\n",
       "        vertical-align: top;\n",
       "    }\n",
       "</style>\n",
       "<table border=\"1\" class=\"dataframe\">\n",
       "  <thead>\n",
       "    <tr style=\"text-align: right;\">\n",
       "      <th></th>\n",
       "      <th></th>\n",
       "      <th></th>\n",
       "      <th>likes</th>\n",
       "    </tr>\n",
       "    <tr>\n",
       "      <th>user_id</th>\n",
       "      <th>name</th>\n",
       "      <th>age</th>\n",
       "      <th></th>\n",
       "    </tr>\n",
       "  </thead>\n",
       "  <tbody>\n",
       "    <tr>\n",
       "      <th>3</th>\n",
       "      <th>Alex</th>\n",
       "      <th>32</th>\n",
       "      <td>3</td>\n",
       "    </tr>\n",
       "  </tbody>\n",
       "</table>\n",
       "</div>"
      ],
      "text/plain": [
       "                  likes\n",
       "user_id name age       \n",
       "3       Alex 32       3"
      ]
     },
     "execution_count": 17,
     "metadata": {},
     "output_type": "execute_result"
    }
   ],
   "source": [
    "# Oldest user who has at least 2 likes\n",
    "agg_values[agg_values['likes'] >= 2].head(1)"
   ]
  },
  {
   "cell_type": "code",
   "execution_count": 18,
   "metadata": {},
   "outputs": [
    {
     "data": {
      "text/plain": [
       "([{'age': 29, 'id': 1, 'name': 'John'},\n",
       "  {'age': 19, 'id': 2, 'name': 'Doe'},\n",
       "  {'age': 32, 'id': 3, 'name': 'Alex'},\n",
       "  {'age': 27, 'id': 4, 'name': 'Rahul'},\n",
       "  {'age': 23, 'id': 5, 'name': 'Ellen'},\n",
       "  {'age': 30, 'id': 6, 'name': 'Shristy'},\n",
       "  {'age': 40, 'id': 7, 'name': 'Yeti'},\n",
       "  {'age': 31, 'id': 8, 'name': 'Commander'},\n",
       "  {'age': 26, 'id': 9, 'name': 'Jonnah'},\n",
       "  {'age': 28, 'id': 10, 'name': 'Hex'},\n",
       "  {'age': 33, 'id': 11, 'name': 'Sam'},\n",
       "  {'age': 53, 'id': 12, 'name': 'Madan'},\n",
       "  {'age': 38, 'id': 13, 'name': 'Harry'},\n",
       "  {'age': 29, 'id': 14, 'name': 'Tom'},\n",
       "  {'age': 23, 'id': 15, 'name': 'Daniel'},\n",
       "  {'age': 24, 'id': 16, 'name': 'Virat'},\n",
       "  {'age': 16, 'id': 17, 'name': 'Nathan'},\n",
       "  {'age': 26, 'id': 18, 'name': 'Stepheny'},\n",
       "  {'age': 31, 'id': 19, 'name': 'Lola'},\n",
       "  {'age': 25, 'id': 20, 'name': 'Amy'}],\n",
       " 20)"
      ]
     },
     "execution_count": 18,
     "metadata": {},
     "output_type": "execute_result"
    }
   ],
   "source": [
    "# Lets augment our data a little more\n",
    "users = users + [\n",
    "    { 'id': 7, 'name': 'Yeti', 'age': 40 },\n",
    "    { 'id': 8, 'name': 'Commander', 'age': 31 },\n",
    "    { 'id': 9, 'name': 'Jonnah', 'age': 26 },\n",
    "    { 'id': 10, 'name': 'Hex', 'age': 28 },\n",
    "    { 'id': 11, 'name': 'Sam', 'age': 33 },\n",
    "    { 'id': 12, 'name': 'Madan', 'age': 53 },\n",
    "    { 'id': 13, 'name': 'Harry', 'age': 38 },\n",
    "    { 'id': 14, 'name': 'Tom', 'age': 29 },\n",
    "    { 'id': 15, 'name': 'Daniel', 'age': 23 },\n",
    "    { 'id': 16, 'name': 'Virat', 'age': 24 },\n",
    "    { 'id': 17, 'name': 'Nathan', 'age': 16 },\n",
    "    { 'id': 18, 'name': 'Stepheny', 'age': 26 },\n",
    "    { 'id': 19, 'name': 'Lola', 'age': 31 },\n",
    "    { 'id': 20, 'name': 'Amy', 'age': 25 },\n",
    "]\n",
    "\n",
    "users, len(users)"
   ]
  },
  {
   "cell_type": "code",
   "execution_count": 19,
   "metadata": {},
   "outputs": [
    {
     "data": {
      "text/plain": [
       "([{'likes': 'Mango', 'user_id': 1},\n",
       "  {'likes': 'Pepsi', 'user_id': 1},\n",
       "  {'likes': 'Burger', 'user_id': 2},\n",
       "  {'likes': 'Mango', 'user_id': 2},\n",
       "  {'likes': 'Cola', 'user_id': 3},\n",
       "  {'likes': 'Orange', 'user_id': 4},\n",
       "  {'likes': 'Cola', 'user_id': 3},\n",
       "  {'likes': 'Pepsi', 'user_id': 2},\n",
       "  {'likes': 'Carrot', 'user_id': 3},\n",
       "  {'likes': 'Mango', 'user_id': 4},\n",
       "  {'likes': 'Pepsi', 'user_id': 6},\n",
       "  {'likes': 'Mango', 'user_id': 17},\n",
       "  {'likes': 'Orange', 'user_id': 14},\n",
       "  {'likes': 'Burger', 'user_id': 18},\n",
       "  {'likes': 'Blueberry', 'user_id': 19},\n",
       "  {'likes': 'Cola', 'user_id': 7},\n",
       "  {'likes': 'Burger', 'user_id': 11},\n",
       "  {'likes': 'Mango', 'user_id': 13},\n",
       "  {'likes': 'Coconut', 'user_id': 1},\n",
       "  {'likes': 'Pepsi', 'user_id': 6},\n",
       "  {'likes': 'Cola', 'user_id': 8},\n",
       "  {'likes': 'Mango', 'user_id': 17},\n",
       "  {'likes': 'Coconut', 'user_id': 19},\n",
       "  {'likes': 'Blueberry', 'user_id': 15},\n",
       "  {'likes': 'Soda', 'user_id': 20},\n",
       "  {'likes': 'Cola', 'user_id': 3},\n",
       "  {'likes': 'Pepsi', 'user_id': 4},\n",
       "  {'likes': 'Coconut', 'user_id': 14},\n",
       "  {'likes': 'Mango', 'user_id': 11},\n",
       "  {'likes': 'Soda', 'user_id': 12},\n",
       "  {'likes': 'Orange', 'user_id': 16},\n",
       "  {'likes': 'Pepsi', 'user_id': 2},\n",
       "  {'likes': 'Cola', 'user_id': 19},\n",
       "  {'likes': 'Carrot', 'user_id': 15},\n",
       "  {'likes': 'Carrot', 'user_id': 18},\n",
       "  {'likes': 'Soda', 'user_id': 14},\n",
       "  {'likes': 'Cola', 'user_id': 13},\n",
       "  {'likes': 'Pepsi', 'user_id': 9},\n",
       "  {'likes': 'Blueberry', 'user_id': 10},\n",
       "  {'likes': 'Soda', 'user_id': 7},\n",
       "  {'likes': 'Burger', 'user_id': 12},\n",
       "  {'likes': 'Cola', 'user_id': 6},\n",
       "  {'likes': 'Burger', 'user_id': 4},\n",
       "  {'likes': 'Orange', 'user_id': 14},\n",
       "  {'likes': 'Blueberry', 'user_id': 18},\n",
       "  {'likes': 'Cola', 'user_id': 20},\n",
       "  {'likes': 'Soda', 'user_id': 9},\n",
       "  {'likes': 'Pepsi', 'user_id': 14},\n",
       "  {'likes': 'Mango', 'user_id': 6},\n",
       "  {'likes': 'Coconut', 'user_id': 3}],\n",
       " 50)"
      ]
     },
     "execution_count": 19,
     "metadata": {},
     "output_type": "execute_result"
    }
   ],
   "source": [
    "likes = likes + [\n",
    "    { 'user_id': 17, 'likes': 'Mango' },\n",
    "    { 'user_id': 14, 'likes': 'Orange'},\n",
    "    { 'user_id': 18, 'likes': 'Burger'},\n",
    "    { 'user_id': 19, 'likes': 'Blueberry'},\n",
    "    { 'user_id': 7, 'likes': 'Cola'},\n",
    "    { 'user_id': 11, 'likes': 'Burger'},\n",
    "    { 'user_id': 13, 'likes': 'Mango'},\n",
    "    { 'user_id': 1, 'likes': 'Coconut'},\n",
    "    { 'user_id': 6, 'likes': 'Pepsi'},\n",
    "    { 'user_id': 8, 'likes': 'Cola'},\n",
    "    { 'user_id': 17, 'likes': 'Mango'},\n",
    "    { 'user_id': 19, 'likes': 'Coconut'},\n",
    "    { 'user_id': 15, 'likes': 'Blueberry'},\n",
    "    { 'user_id': 20, 'likes': 'Soda'},\n",
    "    { 'user_id': 3, 'likes': 'Cola'},\n",
    "    { 'user_id': 4, 'likes': 'Pepsi'},\n",
    "    { 'user_id': 14, 'likes': 'Coconut'},\n",
    "    { 'user_id': 11, 'likes': 'Mango'},\n",
    "    { 'user_id': 12, 'likes': 'Soda'},\n",
    "    { 'user_id': 16, 'likes': 'Orange'},\n",
    "    { 'user_id': 2, 'likes': 'Pepsi'},\n",
    "    { 'user_id': 19, 'likes': 'Cola'},\n",
    "    { 'user_id': 15, 'likes': 'Carrot'},\n",
    "    { 'user_id': 18, 'likes': 'Carrot'},\n",
    "    { 'user_id': 14, 'likes': 'Soda'},\n",
    "    { 'user_id': 13, 'likes': 'Cola'},\n",
    "    { 'user_id': 9, 'likes': 'Pepsi'},\n",
    "    { 'user_id': 10, 'likes': 'Blueberry'},\n",
    "    { 'user_id': 7, 'likes': 'Soda'},\n",
    "    { 'user_id': 12, 'likes': 'Burger'},\n",
    "    { 'user_id': 6, 'likes': 'Cola'},\n",
    "    { 'user_id': 4, 'likes': 'Burger'},\n",
    "    { 'user_id': 14, 'likes': 'Orange'},\n",
    "    { 'user_id': 18, 'likes': 'Blueberry'},\n",
    "    { 'user_id': 20, 'likes': 'Cola'},\n",
    "    { 'user_id': 9, 'likes': 'Soda'},\n",
    "    { 'user_id': 14, 'likes': 'Pepsi'},\n",
    "    { 'user_id': 6, 'likes': 'Mango'},\n",
    "    { 'user_id': 3, 'likes': 'Coconut'},\n",
    "]\n",
    "\n",
    "likes, len(likes)"
   ]
  },
  {
   "cell_type": "markdown",
   "metadata": {},
   "source": [
    "### Eating your own dog food\n",
    "\n",
    "The above data has been copy-pasted and hand edited. A problem with this approach is the possibility of data containing more than one like for the same product by the same user. While we can manually check the data the approach will be tedious and untractable as the size of the data increases. Instead we employ pandas itself to indentify duplicate likes by the same person and fix the data accordingly."
   ]
  },
  {
   "cell_type": "code",
   "execution_count": 20,
   "metadata": {
    "collapsed": true
   },
   "outputs": [],
   "source": [
    "# DataFrames from native python dictionaries\n",
    "df_users = pd.DataFrame(users)\n",
    "df_likes = pd.DataFrame(likes)"
   ]
  },
  {
   "cell_type": "markdown",
   "metadata": {},
   "source": [
    "Lets figure out where are the duplicates"
   ]
  },
  {
   "cell_type": "code",
   "execution_count": 21,
   "metadata": {},
   "outputs": [
    {
     "data": {
      "text/html": [
       "<div>\n",
       "<style>\n",
       "    .dataframe thead tr:only-child th {\n",
       "        text-align: right;\n",
       "    }\n",
       "\n",
       "    .dataframe thead th {\n",
       "        text-align: left;\n",
       "    }\n",
       "\n",
       "    .dataframe tbody tr th {\n",
       "        vertical-align: top;\n",
       "    }\n",
       "</style>\n",
       "<table border=\"1\" class=\"dataframe\">\n",
       "  <thead>\n",
       "    <tr style=\"text-align: right;\">\n",
       "      <th></th>\n",
       "      <th></th>\n",
       "      <th>likes</th>\n",
       "    </tr>\n",
       "    <tr>\n",
       "      <th>user_id</th>\n",
       "      <th>likes</th>\n",
       "      <th></th>\n",
       "    </tr>\n",
       "  </thead>\n",
       "  <tbody>\n",
       "    <tr>\n",
       "      <th>2</th>\n",
       "      <th>Pepsi</th>\n",
       "      <td>2</td>\n",
       "    </tr>\n",
       "    <tr>\n",
       "      <th>3</th>\n",
       "      <th>Cola</th>\n",
       "      <td>3</td>\n",
       "    </tr>\n",
       "    <tr>\n",
       "      <th>6</th>\n",
       "      <th>Pepsi</th>\n",
       "      <td>2</td>\n",
       "    </tr>\n",
       "    <tr>\n",
       "      <th>14</th>\n",
       "      <th>Orange</th>\n",
       "      <td>2</td>\n",
       "    </tr>\n",
       "    <tr>\n",
       "      <th>17</th>\n",
       "      <th>Mango</th>\n",
       "      <td>2</td>\n",
       "    </tr>\n",
       "  </tbody>\n",
       "</table>\n",
       "</div>"
      ],
      "text/plain": [
       "                likes\n",
       "user_id likes        \n",
       "2       Pepsi       2\n",
       "3       Cola        3\n",
       "6       Pepsi       2\n",
       "14      Orange      2\n",
       "17      Mango       2"
      ]
     },
     "execution_count": 21,
     "metadata": {},
     "output_type": "execute_result"
    }
   ],
   "source": [
    "_duplicate_likes = (\n",
    "    df_likes\n",
    "        .groupby(['user_id', 'likes'])\n",
    "        .agg({ 'likes': 'count' })\n",
    "        \n",
    ")\n",
    "\n",
    "duplicate_likes = _duplicate_likes[_duplicate_likes['likes'] > 1]\n",
    "duplicate_likes"
   ]
  },
  {
   "cell_type": "markdown",
   "metadata": {},
   "source": [
    "So there are in all 6 duplicate records. User#2 and Pepsi is recorded twice so that is 1 extra, 2 extra for User#3 and Cola and 1 extra for rest of the three pairs, which equals, 1 + 2 + 1 + 1 + 1 = 6."
   ]
  },
  {
   "cell_type": "code",
   "execution_count": 22,
   "metadata": {},
   "outputs": [
    {
     "data": {
      "text/plain": [
       "(44, 50)"
      ]
     },
     "execution_count": 22,
     "metadata": {},
     "output_type": "execute_result"
    }
   ],
   "source": [
    "# Now remove the duplicates\n",
    "df_unq_likes = df_likes.drop_duplicates()\n",
    "\n",
    "# The difference should be 6 since 6 records should be eliminated\n",
    "len(df_unq_likes), len(df_likes)"
   ]
  },
  {
   "cell_type": "markdown",
   "metadata": {},
   "source": [
    "We replay our previous aggregation to verify no more duplicates indeed exist."
   ]
  },
  {
   "cell_type": "code",
   "execution_count": 23,
   "metadata": {},
   "outputs": [
    {
     "data": {
      "text/html": [
       "<div>\n",
       "<style>\n",
       "    .dataframe thead tr:only-child th {\n",
       "        text-align: right;\n",
       "    }\n",
       "\n",
       "    .dataframe thead th {\n",
       "        text-align: left;\n",
       "    }\n",
       "\n",
       "    .dataframe tbody tr th {\n",
       "        vertical-align: top;\n",
       "    }\n",
       "</style>\n",
       "<table border=\"1\" class=\"dataframe\">\n",
       "  <thead>\n",
       "    <tr style=\"text-align: right;\">\n",
       "      <th></th>\n",
       "      <th></th>\n",
       "      <th></th>\n",
       "      <th>num_likes</th>\n",
       "    </tr>\n",
       "    <tr>\n",
       "      <th>id</th>\n",
       "      <th>name</th>\n",
       "      <th>likes</th>\n",
       "      <th></th>\n",
       "    </tr>\n",
       "  </thead>\n",
       "  <tbody>\n",
       "  </tbody>\n",
       "</table>\n",
       "</div>"
      ],
      "text/plain": [
       "Empty DataFrame\n",
       "Columns: [num_likes]\n",
       "Index: []"
      ]
     },
     "execution_count": 23,
     "metadata": {},
     "output_type": "execute_result"
    }
   ],
   "source": [
    "# Join the datasets\n",
    "users_likes_join = df_users.merge(df_unq_likes, left_on='id', right_on='user_id')\n",
    "users_likes_join.set_index('id')\n",
    "\n",
    "# We aggregate the likes column and rename it to `Records`\n",
    "unq_user_likes_group = (\n",
    "    users_likes_join\n",
    "        .groupby(['id', 'name', 'likes'])\n",
    "        .agg({'likes': 'count'})\n",
    "        .rename(columns={ 'likes': 'num_likes' })\n",
    ")\n",
    "\n",
    "# Should return empty if duplicates are removed\n",
    "unq_user_likes_group[unq_user_likes_group['num_likes'] > 1]"
   ]
  },
  {
   "cell_type": "markdown",
   "metadata": {},
   "source": [
    "Lets continue with asking more questions of our data and gloss over some more convenience methods exposed by Pandas for aggregation."
   ]
  },
  {
   "cell_type": "code",
   "execution_count": 24,
   "metadata": {},
   "outputs": [
    {
     "data": {
      "text/html": [
       "<div>\n",
       "<style>\n",
       "    .dataframe thead tr:only-child th {\n",
       "        text-align: right;\n",
       "    }\n",
       "\n",
       "    .dataframe thead th {\n",
       "        text-align: left;\n",
       "    }\n",
       "\n",
       "    .dataframe tbody tr th {\n",
       "        vertical-align: top;\n",
       "    }\n",
       "</style>\n",
       "<table border=\"1\" class=\"dataframe\">\n",
       "  <thead>\n",
       "    <tr style=\"text-align: right;\">\n",
       "      <th></th>\n",
       "      <th>user_id</th>\n",
       "      <th>percent</th>\n",
       "    </tr>\n",
       "    <tr>\n",
       "      <th>likes</th>\n",
       "      <th></th>\n",
       "      <th></th>\n",
       "    </tr>\n",
       "  </thead>\n",
       "  <tbody>\n",
       "    <tr>\n",
       "      <th>Cola</th>\n",
       "      <td>7</td>\n",
       "      <td>35.0</td>\n",
       "    </tr>\n",
       "    <tr>\n",
       "      <th>Mango</th>\n",
       "      <td>7</td>\n",
       "      <td>35.0</td>\n",
       "    </tr>\n",
       "    <tr>\n",
       "      <th>Pepsi</th>\n",
       "      <td>6</td>\n",
       "      <td>30.0</td>\n",
       "    </tr>\n",
       "    <tr>\n",
       "      <th>Burger</th>\n",
       "      <td>5</td>\n",
       "      <td>25.0</td>\n",
       "    </tr>\n",
       "    <tr>\n",
       "      <th>Soda</th>\n",
       "      <td>5</td>\n",
       "      <td>25.0</td>\n",
       "    </tr>\n",
       "    <tr>\n",
       "      <th>Blueberry</th>\n",
       "      <td>4</td>\n",
       "      <td>20.0</td>\n",
       "    </tr>\n",
       "    <tr>\n",
       "      <th>Coconut</th>\n",
       "      <td>4</td>\n",
       "      <td>20.0</td>\n",
       "    </tr>\n",
       "    <tr>\n",
       "      <th>Carrot</th>\n",
       "      <td>3</td>\n",
       "      <td>15.0</td>\n",
       "    </tr>\n",
       "    <tr>\n",
       "      <th>Orange</th>\n",
       "      <td>3</td>\n",
       "      <td>15.0</td>\n",
       "    </tr>\n",
       "  </tbody>\n",
       "</table>\n",
       "</div>"
      ],
      "text/plain": [
       "           user_id  percent\n",
       "likes                      \n",
       "Cola             7     35.0\n",
       "Mango            7     35.0\n",
       "Pepsi            6     30.0\n",
       "Burger           5     25.0\n",
       "Soda             5     25.0\n",
       "Blueberry        4     20.0\n",
       "Coconut          4     20.0\n",
       "Carrot           3     15.0\n",
       "Orange           3     15.0"
      ]
     },
     "execution_count": 24,
     "metadata": {},
     "output_type": "execute_result"
    }
   ],
   "source": [
    "# What percent of audience likes each fruit?\n",
    "likes_count = (\n",
    "    users_likes_join\n",
    "        .groupby('likes')\n",
    "        .agg({ 'user_id': 'count' })\n",
    ")\n",
    "\n",
    "likes_count['percent'] = likes_count['user_id'] * 100 / len(df_users)\n",
    "likes_count.sort_values('percent', ascending=False)"
   ]
  },
  {
   "cell_type": "markdown",
   "metadata": {},
   "source": [
    "In the above code snippet we created a computed columns `percent` to `likes_count` frame. Column operations in pandas are vectorized and execute significantly faster than row wise operations. Always a good idea to express computations in "
   ]
  }
 ],
 "metadata": {
  "kernelspec": {
   "display_name": "Python 3",
   "language": "python",
   "name": "python3"
  },
  "language_info": {
   "codemirror_mode": {
    "name": "ipython",
    "version": 3
   },
   "file_extension": ".py",
   "mimetype": "text/x-python",
   "name": "python",
   "nbconvert_exporter": "python",
   "pygments_lexer": "ipython3",
   "version": "3.5.0"
  }
 },
 "nbformat": 4,
 "nbformat_minor": 2
}
